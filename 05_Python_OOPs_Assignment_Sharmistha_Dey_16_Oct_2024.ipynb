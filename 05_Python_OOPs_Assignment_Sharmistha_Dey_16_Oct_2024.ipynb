{
  "nbformat": 4,
  "nbformat_minor": 0,
  "metadata": {
    "colab": {
      "provenance": [],
      "authorship_tag": "ABX9TyMk51oTzq1KFq9uvJPsfEKB",
      "include_colab_link": true
    },
    "kernelspec": {
      "name": "python3",
      "display_name": "Python 3"
    },
    "language_info": {
      "name": "python"
    }
  },
  "cells": [
    {
      "cell_type": "markdown",
      "metadata": {
        "id": "view-in-github",
        "colab_type": "text"
      },
      "source": [
        "<a href=\"https://colab.research.google.com/github/CoderVudu/05_Python_OOPs_Assignment_Sharmistha_Dey_16_Oct_2024/blob/main/05_Python_OOPs_Assignment_Sharmistha_Dey_16_Oct_2024.ipynb\" target=\"_parent\"><img src=\"https://colab.research.google.com/assets/colab-badge.svg\" alt=\"Open In Colab\"/></a>"
      ]
    },
    {
      "cell_type": "markdown",
      "source": [
        "#Q.1 . What are the five key concepts of Object-Oriented Programming (OOP)?"
      ],
      "metadata": {
        "id": "uYwSIiZJydms"
      }
    },
    {
      "cell_type": "markdown",
      "source": [
        "The five key concepts of Object-Oriented Programming (OOP) in Python are :-\n",
        "\n",
        "Class: Class is defined as a blueprint for creating objects. It defines the attributes (data) and methods (functions) that the objects created from the class will have. For example, a Car class might have attributes like color and model, and methods like start() and stop().\n",
        "\n",
        "Object: Objects are an instance of a class. When a class is defined, no memory is allocated until an object is created from it. Objects hold the actual data and the functionality that is defined in the class.\n",
        "\n",
        "Encapsulation: Encapsulation is the practice of hiding the internal state and functionality of an object and only exposing a limited interface. In Python, encapsulation is achieved through access modifiers like public, private, and protected attributes or methods (e.g., prefixing with underscores).\n",
        "\n",
        "Inheritance: It is a mechanism for creating a new class that reuses, extends, or modifies the behavior of an existing class. The new class (called a child or subclass) inherits the properties and methods of the parent class.\n",
        "\n",
        "Polymorphism: The ability to use a common interface for different data types. It allows objects of different classes to be treated as objects of a common super class. In Python, this is often used with method overriding and operator overloading.\n",
        "\n",
        "These core concepts help in designing flexible, reusable, and organized code using OOP principles."
      ],
      "metadata": {
        "id": "HTz8KsFhye7T"
      }
    },
    {
      "cell_type": "markdown",
      "source": [
        "#Q.2 Write a Python class for a Car with attributes for make, model, and year. Include a method to display the car's information."
      ],
      "metadata": {
        "id": "adccCXEYyjHe"
      }
    },
    {
      "cell_type": "code",
      "source": [
        "class Car:\n",
        "    def __init__(self, make, model, year):\n",
        "        \"\"\"Initialize the car's attributes.\"\"\"\n",
        "        self.make = make\n",
        "        self.model = model\n",
        "        self.year = year\n",
        "\n",
        "    def display_info(self):\n",
        "        \"\"\"Display the car's information.\"\"\"\n",
        "        print(f\"Car Information: {self.year} {self.make} {self.model}\")\n",
        "\n",
        "# Example usage:\n",
        "my_car = Car(\"Range Rover\", \"Adventure\", 2021)\n",
        "my_car.display_info()\n"
      ],
      "metadata": {
        "colab": {
          "base_uri": "https://localhost:8080/"
        },
        "id": "xCkBCzqgzQVV",
        "outputId": "fcb4aa4f-a7d8-4a2f-e42b-9ee9a10278a0"
      },
      "execution_count": 4,
      "outputs": [
        {
          "output_type": "stream",
          "name": "stdout",
          "text": [
            "Car Information: 2021 Range Rover Adventure\n"
          ]
        }
      ]
    },
    {
      "cell_type": "markdown",
      "source": [
        "#Q.3 Explain the difference between instance methods and class methods. Provide an example of each."
      ],
      "metadata": {
        "id": "qDmWr_3Bz4BZ"
      }
    },
    {
      "cell_type": "markdown",
      "source": [
        "Instance methods and class methods are two types of methods in object-oriented programming, particularly in Python, that differ in how they operate and what they act upon.  \n",
        "Instance Methods: Instance methods are the most common type of method, and they work on individual instances of a class. They take self as their first parameter, which represents the instance itself. Instance methods can access and modify instance attributes (variables specific to each object of the class) and call other instance methods."
      ],
      "metadata": {
        "id": "5rxa6hyV0UPF"
      }
    },
    {
      "cell_type": "code",
      "source": [
        "class Car:\n",
        "    def __init__(self, model):\n",
        "        self.model = model\n",
        "\n",
        "    def display_model(self):\n",
        "        return f\"Car model: {self.model}\"\n",
        "\n",
        "my_car = Car(\"Tesla\")\n",
        "print(my_car.display_model())  # Output: Car model: Tesla\n"
      ],
      "metadata": {
        "colab": {
          "base_uri": "https://localhost:8080/"
        },
        "id": "5wUvtrYP0VBK",
        "outputId": "c071e083-3f91-496a-db9b-292b77b11e60"
      },
      "execution_count": 6,
      "outputs": [
        {
          "output_type": "stream",
          "name": "stdout",
          "text": [
            "Car model: Tesla\n"
          ]
        }
      ]
    },
    {
      "cell_type": "markdown",
      "source": [
        "Class Methods: Class methods, on the other hand, work on the class itself rather than individual instances. They take cls as their first parameter, which refers to the class rather than an instance. Class methods are defined using the @classmethod decorator and can access or modify class-level attributes shared across all instances."
      ],
      "metadata": {
        "id": "QonHU2ZR0gfA"
      }
    },
    {
      "cell_type": "code",
      "source": [
        "class Car:\n",
        "    car_count = 0\n",
        "\n",
        "    def __init__(self):\n",
        "        Car.car_count += 1\n",
        "\n",
        "    @classmethod\n",
        "    def total_cars(cls):\n",
        "        return f\"Total cars: {cls.car_count}\"\n",
        "\n",
        "car1 = Car()\n",
        "car2 = Car()\n",
        "print(Car.total_cars())  # Output: Total cars: 2"
      ],
      "metadata": {
        "colab": {
          "base_uri": "https://localhost:8080/"
        },
        "id": "s8Lih0eE0kmr",
        "outputId": "78b73319-7710-41d7-9177-f23fb3ff8ec2"
      },
      "execution_count": 7,
      "outputs": [
        {
          "output_type": "stream",
          "name": "stdout",
          "text": [
            "Total cars: 2\n"
          ]
        }
      ]
    },
    {
      "cell_type": "markdown",
      "source": [
        "#Q.4 How does Python implement method overloading? Give an example."
      ],
      "metadata": {
        "id": "9Jf5Czc90uxY"
      }
    },
    {
      "cell_type": "markdown",
      "source": [
        "Python does not support traditional method overloading like some other languages (e.g., Java) where multiple methods can have the same name but different parameters. Instead, Python handles this by allowing default arguments and variable-length argument lists (*args, **kwargs) in a single method. This way, a single method can adapt to different argument scenarios."
      ],
      "metadata": {
        "id": "9B9-S3k21OrD"
      }
    },
    {
      "cell_type": "code",
      "source": [
        "class Example:\n",
        "    def add(self, a, b=0, c=0):\n",
        "        return a + b + c\n",
        "\n",
        "obj = Example()\n",
        "print(obj.add(2))      # 2\n",
        "print(obj.add(2, 3))   # 5\n",
        "print(obj.add(2, 3, 4))# 9\n"
      ],
      "metadata": {
        "colab": {
          "base_uri": "https://localhost:8080/"
        },
        "id": "wvmqQBFn1Snl",
        "outputId": "0c8723b9-f13d-4809-d565-95bdd4fb34a1"
      },
      "execution_count": 8,
      "outputs": [
        {
          "output_type": "stream",
          "name": "stdout",
          "text": [
            "2\n",
            "5\n",
            "9\n"
          ]
        }
      ]
    },
    {
      "cell_type": "markdown",
      "source": [
        "#Q.5 What are the three types of access modifiers in Python? How are they denoted?"
      ],
      "metadata": {
        "id": "akLDrwqM1WT3"
      }
    },
    {
      "cell_type": "markdown",
      "source": [
        "In Python, the three types of access modifiers are public, protected, and private, which control the accessibility of class members (variables and methods):\n",
        "\n",
        "Public: Accessible from anywhere, both inside and outside the class. Denoted with no underscores before the member name."
      ],
      "metadata": {
        "id": "eJ4HKR3A1rnd"
      }
    },
    {
      "cell_type": "code",
      "source": [
        "class Example:\n",
        "    def __init__(self):\n",
        "        self.public_var = \"I am public\"\n",
        "obj = Example()\n",
        "print(obj.public_var)  # Accessible\n"
      ],
      "metadata": {
        "colab": {
          "base_uri": "https://localhost:8080/"
        },
        "id": "cK1P_b2t16zh",
        "outputId": "08b3c2b1-c008-4cbc-b4f0-39decc1a7698"
      },
      "execution_count": 9,
      "outputs": [
        {
          "output_type": "stream",
          "name": "stdout",
          "text": [
            "I am public\n"
          ]
        }
      ]
    },
    {
      "cell_type": "markdown",
      "source": [
        "Protected: Accessible within the class and subclasses but not outside the class. Denoted with a single underscore (_)."
      ],
      "metadata": {
        "id": "BaOPuvgS191I"
      }
    },
    {
      "cell_type": "code",
      "source": [
        "class Example:\n",
        "    def __init__(self):\n",
        "        self._protected_var = \"I am protected\""
      ],
      "metadata": {
        "id": "UVIfrj5J2BZZ"
      },
      "execution_count": 12,
      "outputs": []
    },
    {
      "cell_type": "markdown",
      "source": [
        "Private: Accessible only within the class. Denoted with a double underscore (__)."
      ],
      "metadata": {
        "id": "pjdDEj2u2Heu"
      }
    },
    {
      "cell_type": "code",
      "source": [
        "class Example:\n",
        "    def __init__(self):\n",
        "        self.__private_var = \"I am private\"\n"
      ],
      "metadata": {
        "id": "Izns4bIW2Jja"
      },
      "execution_count": 13,
      "outputs": []
    },
    {
      "cell_type": "markdown",
      "source": [
        "#Q.6 Describe the five types of inheritance in Python. Provide a simple example of multiple inheritance."
      ],
      "metadata": {
        "id": "cgUj8RHR2MCt"
      }
    },
    {
      "cell_type": "markdown",
      "source": [
        "In Python, inheritance allows a class to inherit properties and methods from another class. The five types of inheritance are:\n",
        "\n",
        "Single Inheritance: A child class inherits from a single parent class."
      ],
      "metadata": {
        "id": "bKC2cEsk2f5u"
      }
    },
    {
      "cell_type": "code",
      "source": [
        "class Parent:\n",
        "    pass\n",
        "class Child(Parent):\n",
        "    pass\n"
      ],
      "metadata": {
        "id": "Q7ncvGY92glB"
      },
      "execution_count": 14,
      "outputs": []
    },
    {
      "cell_type": "markdown",
      "source": [
        "Multiple Inheritance: A child class inherits from more than one parent class."
      ],
      "metadata": {
        "id": "Y1PXoX1E2kBv"
      }
    },
    {
      "cell_type": "code",
      "source": [
        "class Parent1:\n",
        "    pass\n",
        "class Parent2:\n",
        "    pass\n",
        "class Child(Parent1, Parent2):\n",
        "    pass\n"
      ],
      "metadata": {
        "id": "tNvJ4D7U2nLD"
      },
      "execution_count": 15,
      "outputs": []
    },
    {
      "cell_type": "markdown",
      "source": [
        "Multilevel Inheritance: A chain of inheritance where a class is derived from a class which is also derived from another."
      ],
      "metadata": {
        "id": "HQzh34Nj2rA6"
      }
    },
    {
      "cell_type": "code",
      "source": [
        "class Grandparent:\n",
        "    pass\n",
        "class Parent(Grandparent):\n",
        "    pass\n",
        "class Child(Parent):\n",
        "    pass\n"
      ],
      "metadata": {
        "id": "QAF6qDxX2t1P"
      },
      "execution_count": 16,
      "outputs": []
    },
    {
      "cell_type": "markdown",
      "source": [
        "Hierarchical Inheritance: Multiple child classes inherit from the same parent class."
      ],
      "metadata": {
        "id": "qiMUGipt3HhA"
      }
    },
    {
      "cell_type": "code",
      "source": [
        "class Parent:\n",
        "    pass\n",
        "class Child1(Parent):\n",
        "    pass\n",
        "class Child2(Parent):\n",
        "    pass\n"
      ],
      "metadata": {
        "id": "y9yxW2Vg3IFJ"
      },
      "execution_count": 17,
      "outputs": []
    },
    {
      "cell_type": "markdown",
      "source": [
        "Hybrid Inheritance: A combination of two or more types of inheritance.\n",
        "\n",
        "Example of multiple inheritance:"
      ],
      "metadata": {
        "id": "meTXjwho3N-g"
      }
    },
    {
      "cell_type": "code",
      "source": [
        "class A:\n",
        "    def method_a(self):\n",
        "        print(\"Method A\")\n",
        "\n",
        "class B:\n",
        "    def method_b(self):\n",
        "        print(\"Method B\")\n",
        "\n",
        "class C(A, B):\n",
        "    pass\n",
        "\n",
        "obj = C()\n",
        "obj.method_a()  # Output: Method A\n",
        "obj.method_b()  # Output: Method B\n"
      ],
      "metadata": {
        "colab": {
          "base_uri": "https://localhost:8080/"
        },
        "id": "dJJr6nSH3Ryf",
        "outputId": "1afc6107-a6ba-4aa4-d21f-90e67a858c2a"
      },
      "execution_count": 18,
      "outputs": [
        {
          "output_type": "stream",
          "name": "stdout",
          "text": [
            "Method A\n",
            "Method B\n"
          ]
        }
      ]
    },
    {
      "cell_type": "markdown",
      "source": [
        "#Q.7 What is the Method Resolution Order (MRO) in Python? How can you retrieve it programmatically?"
      ],
      "metadata": {
        "id": "V942l47k3VOI"
      }
    },
    {
      "cell_type": "markdown",
      "source": [
        "In Python, the Method Resolution Order (MRO) determines the sequence in which base classes are searched when executing a method in the context of multiple inheritance. It ensures that methods are called in the correct order, avoiding conflicts between classes. Python uses the C3 linearization algorithm to compute the MRO, which ensures that subclasses override methods from base classes while preserving the correct hierarchy. One can retrieve the MRO of a class programmatically using the mro() method or the __mro__ attribute. For example:"
      ],
      "metadata": {
        "id": "9R3QyPRl3ufr"
      }
    },
    {
      "cell_type": "code",
      "source": [
        "class A:\n",
        "    pass\n",
        "\n",
        "class B(A):\n",
        "    pass\n",
        "\n",
        "class C(B):\n",
        "    pass\n",
        "\n",
        "print(C.mro())         # Method 1\n",
        "print(C.__mro__)       # Method 2\n"
      ],
      "metadata": {
        "colab": {
          "base_uri": "https://localhost:8080/"
        },
        "id": "ViH31cXE3vAB",
        "outputId": "a9e6b023-a869-4c6f-90ce-0191a43dbc91"
      },
      "execution_count": 19,
      "outputs": [
        {
          "output_type": "stream",
          "name": "stdout",
          "text": [
            "[<class '__main__.C'>, <class '__main__.B'>, <class '__main__.A'>, <class 'object'>]\n",
            "(<class '__main__.C'>, <class '__main__.B'>, <class '__main__.A'>, <class 'object'>)\n"
          ]
        }
      ]
    },
    {
      "cell_type": "markdown",
      "source": [
        "Both will return the MRO as a list of classes that Python follows, starting from the class itself and ending with the base class object."
      ],
      "metadata": {
        "id": "UrM78vCb3y2w"
      }
    },
    {
      "cell_type": "markdown",
      "source": [
        "#Q.8 Create an abstract base class Shape with an abstract method area(). Then create two subclasses Circle and Rectangle that implement the area() method."
      ],
      "metadata": {
        "id": "1v16vsWR4FG8"
      }
    },
    {
      "cell_type": "markdown",
      "source": [
        "In Python, an abstract base class (ABC) is a class that contains one or more abstract methods, which are methods declared but without implementation. Such a class is meant to be subclassed, and its abstract methods must be implemented by the derived classes. Below is a Python code that demonstrates an abstract base class Shape with an abstract method area(). The subclasses Circle and Rectangle implement the area() method according to their respective geometrical formulas.This code defines an abstract class Shape with the abstract method area(). The subclasses Circle and Rectangle implement the area() method, calculating the area based on their respective shapes. Instances of each subclass demonstrate the calculation of the area for both shapes."
      ],
      "metadata": {
        "id": "s6BFX-SY4KIB"
      }
    },
    {
      "cell_type": "code",
      "source": [
        "from abc import ABC, abstractmethod\n",
        "import math\n",
        "\n",
        "# Abstract Base Class\n",
        "class Shape(ABC):\n",
        "\n",
        "    @abstractmethod\n",
        "    def area(self):\n",
        "        pass\n",
        "\n",
        "# Subclass Circle\n",
        "class Circle(Shape):\n",
        "\n",
        "    def __init__(self, radius):\n",
        "        self.radius = radius\n",
        "\n",
        "    # Implementing the abstract method\n",
        "    def area(self):\n",
        "        return math.pi * (self.radius ** 2)\n",
        "\n",
        "# Subclass Rectangle\n",
        "class Rectangle(Shape):\n",
        "\n",
        "    def __init__(self, width, height):\n",
        "        self.width = width\n",
        "        self.height = height\n",
        "\n",
        "    # Implementing the abstract method\n",
        "    def area(self):\n",
        "        return self.width * self.height\n",
        "\n",
        "# Testing the implementation\n",
        "circle = Circle(5)\n",
        "rectangle = Rectangle(4, 6)\n",
        "\n",
        "print(f\"Circle area: {circle.area()}\")\n",
        "print(f\"Rectangle area: {rectangle.area()}\")\n"
      ],
      "metadata": {
        "colab": {
          "base_uri": "https://localhost:8080/"
        },
        "id": "PT0ZxAqk4ebj",
        "outputId": "e2afb50e-8e0d-4371-bea6-820a9f58c811"
      },
      "execution_count": 20,
      "outputs": [
        {
          "output_type": "stream",
          "name": "stdout",
          "text": [
            "Circle area: 78.53981633974483\n",
            "Rectangle area: 24\n"
          ]
        }
      ]
    },
    {
      "cell_type": "markdown",
      "source": [
        "#Q.9 Demonstrate polymorphism by creating a function that can work with different shape objects to calculate and print their areas."
      ],
      "metadata": {
        "id": "jmqOA13t4i0U"
      }
    },
    {
      "cell_type": "markdown",
      "source": [
        "Polymorphism allows methods to perform differently based on the object invoking them, even if the method names are the same. Below is a Python implementation demonstrating polymorphism through a function that calculates the area of different shapes.In this code, we define a base class Shape with a method area(). Three subclasses—Circle, Rectangle, and Triangle—override the area() method to provide their specific area calculations. The print_area() function demonstrates polymorphism by accepting any shape object and calling its area() method, thereby printing the area for various shapes."
      ],
      "metadata": {
        "id": "PZmzGDvA4n1p"
      }
    },
    {
      "cell_type": "code",
      "source": [
        "import math\n",
        "\n",
        "class Shape:\n",
        "    def area(self):\n",
        "        pass\n",
        "\n",
        "class Circle(Shape):\n",
        "    def __init__(self, radius):\n",
        "        self.radius = radius\n",
        "\n",
        "    def area(self):\n",
        "        return math.pi * (self.radius ** 2)\n",
        "\n",
        "class Rectangle(Shape):\n",
        "    def __init__(self, width, height):\n",
        "        self.width = width\n",
        "        self.height = height\n",
        "\n",
        "    def area(self):\n",
        "        return self.width * self.height\n",
        "\n",
        "class Triangle(Shape):\n",
        "    def __init__(self, base, height):\n",
        "        self.base = base\n",
        "        self.height = height\n",
        "\n",
        "    def area(self):\n",
        "        return 0.5 * self.base * self.height\n",
        "\n",
        "def print_area(shape):\n",
        "    print(f\"The area is: {shape.area()}\")\n",
        "\n",
        "# Example usage\n",
        "shapes = [Circle(5), Rectangle(4, 6), Triangle(3, 7)]\n",
        "for shape in shapes:\n",
        "    print_area(shape)\n"
      ],
      "metadata": {
        "colab": {
          "base_uri": "https://localhost:8080/"
        },
        "id": "0AlgX10D4wgj",
        "outputId": "933d3fb8-6928-42e8-a753-81eb6d2694d3"
      },
      "execution_count": 21,
      "outputs": [
        {
          "output_type": "stream",
          "name": "stdout",
          "text": [
            "The area is: 78.53981633974483\n",
            "The area is: 24\n",
            "The area is: 10.5\n"
          ]
        }
      ]
    },
    {
      "cell_type": "markdown",
      "source": [
        "#Q.10 Implement encapsulation in a BankAccount class with private attributes for balance and account_number. Include methods for deposit, withdrawal, and balance inquiry."
      ],
      "metadata": {
        "id": "mbos7Qw240cu"
      }
    },
    {
      "cell_type": "markdown",
      "source": [
        "Here's a concise implementation of a BankAccount class in Python that demonstrates encapsulation by using private attributes for balance and account_number. This class includes methods for depositing, withdrawing, and inquiring the balance. In this implementation, __account_number and __balance are private attributes, ensuring they can't be accessed directly from outside the class. The methods deposit, withdraw, and get_balance provide controlled access to these attributes."
      ],
      "metadata": {
        "id": "X7XQiU_p43PS"
      }
    },
    {
      "cell_type": "code",
      "source": [
        "class BankAccount:\n",
        "    def __init__(self, account_number, initial_balance=0):\n",
        "        self.__account_number = account_number  # Private attribute\n",
        "        self.__balance = initial_balance         # Private attribute\n",
        "\n",
        "    def deposit(self, amount):\n",
        "        if amount > 0:\n",
        "            self.__balance += amount\n",
        "            print(f\"Deposited: ${amount}. New balance: ${self.__balance}.\")\n",
        "        else:\n",
        "            print(\"Deposit amount must be positive.\")\n",
        "\n",
        "    def withdraw(self, amount):\n",
        "        if 0 < amount <= self.__balance:\n",
        "            self.__balance -= amount\n",
        "            print(f\"Withdrew: ${amount}. New balance: ${self.__balance}.\")\n",
        "        else:\n",
        "            print(\"Invalid withdrawal amount.\")\n",
        "\n",
        "    def get_balance(self):\n",
        "        return self.__balance\n",
        "\n",
        "# Example usage:\n",
        "account = BankAccount(\"123456789\", 1000)\n",
        "account.deposit(500)\n",
        "account.withdraw(200)\n",
        "print(f\"Account balance: ${account.get_balance()}\")\n"
      ],
      "metadata": {
        "colab": {
          "base_uri": "https://localhost:8080/"
        },
        "id": "a-_0C5j45EOq",
        "outputId": "4ca24403-bd68-400e-ca58-b7e89dcb2474"
      },
      "execution_count": 22,
      "outputs": [
        {
          "output_type": "stream",
          "name": "stdout",
          "text": [
            "Deposited: $500. New balance: $1500.\n",
            "Withdrew: $200. New balance: $1300.\n",
            "Account balance: $1300\n"
          ]
        }
      ]
    },
    {
      "cell_type": "markdown",
      "source": [
        "#Q.11 . Write a class that overrides the __str__ and __add__ magic methods. What will these methods allow you to do?"
      ],
      "metadata": {
        "id": "IrHXstli5NKf"
      }
    },
    {
      "cell_type": "markdown",
      "source": [
        "To demonstrate how to override the __str__ and __add__ magic methods in a class, consider a simple class called Vector. The __str__ method allows for a custom string representation of an object, while the __add__ method enables the addition of two objects of that class.\n",
        "In this implementation:\n",
        "\n",
        "__str__: This method returns a string that represents the Vector instance in a readable format. When print(v1) is called, it displays Vector(2, 3) instead of the default object representation.\n",
        "\n",
        "__add__: This method enables the addition of two Vector instances. When v1 + v2 is executed, it returns a new Vector instance with the summed x and y values, showcasing operator overloading.\n",
        "\n",
        "Together, these methods enhance the usability and readability of the class."
      ],
      "metadata": {
        "id": "RoyVA42j5Qgu"
      }
    },
    {
      "cell_type": "code",
      "source": [
        "class Vector:\n",
        "    def __init__(self, x, y):\n",
        "        self.x = x\n",
        "        self.y = y\n",
        "\n",
        "    def __str__(self):\n",
        "        return f\"Vector({self.x}, {self.y})\"\n",
        "\n",
        "    def __add__(self, other):\n",
        "        if isinstance(other, Vector):\n",
        "            return Vector(self.x + other.x, self.y + other.y)\n",
        "        return NotImplemented\n",
        "\n",
        "# Usage\n",
        "v1 = Vector(2, 3)\n",
        "v2 = Vector(4, 5)\n",
        "print(v1)           # Output: Vector(2, 3)\n",
        "print(v1 + v2)     # Output: Vector(6, 8)\n"
      ],
      "metadata": {
        "colab": {
          "base_uri": "https://localhost:8080/"
        },
        "id": "FMZU4GMb5a0Y",
        "outputId": "90e13568-b696-49c4-87a4-bb04875fb207"
      },
      "execution_count": 23,
      "outputs": [
        {
          "output_type": "stream",
          "name": "stdout",
          "text": [
            "Vector(2, 3)\n",
            "Vector(6, 8)\n"
          ]
        }
      ]
    },
    {
      "cell_type": "markdown",
      "source": [
        "#Q.12 Create a decorator that measures and prints the execution time of a function."
      ],
      "metadata": {
        "id": "4-SKiwEJ5d01"
      }
    },
    {
      "cell_type": "markdown",
      "source": [
        "Here's a simple Python decorator that measures and prints the execution time of a function. This decorator can be applied to any function, allowing anyone to track how long it takes to execute."
      ],
      "metadata": {
        "id": "DF5kxQ4w5hE6"
      }
    },
    {
      "cell_type": "code",
      "source": [
        "import time\n",
        "\n",
        "def time_it(func):\n",
        "    \"\"\"Decorator to measure the execution time of a function.\"\"\"\n",
        "    def wrapper(*args, **kwargs):\n",
        "        start_time = time.time()  # Record the start time\n",
        "        result = func(*args, **kwargs)  # Call the original function\n",
        "        end_time = time.time()  # Record the end time\n",
        "        execution_time = end_time - start_time  # Calculate execution time\n",
        "        print(f\"Execution time for '{func.__name__}': {execution_time:.4f} seconds\")\n",
        "        return result  # Return the result of the function\n",
        "    return wrapper\n",
        "\n",
        "# Example usage\n",
        "@time_it\n",
        "def example_function(n):\n",
        "    \"\"\"Simulate a function that takes time to run.\"\"\"\n",
        "    total = 0\n",
        "    for i in range(n):\n",
        "        total += i\n",
        "    return total\n",
        "\n",
        "# Calling the decorated function\n",
        "example_function(1000000)\n"
      ],
      "metadata": {
        "colab": {
          "base_uri": "https://localhost:8080/"
        },
        "id": "lTkvELFW5qEV",
        "outputId": "189066a0-564d-4dac-9afb-7426333e1f88"
      },
      "execution_count": 24,
      "outputs": [
        {
          "output_type": "stream",
          "name": "stdout",
          "text": [
            "Execution time for 'example_function': 0.0671 seconds\n"
          ]
        },
        {
          "output_type": "execute_result",
          "data": {
            "text/plain": [
              "499999500000"
            ]
          },
          "metadata": {},
          "execution_count": 24
        }
      ]
    },
    {
      "cell_type": "markdown",
      "source": [
        "Explanation:\n",
        "\n",
        "Decorator Definition: time_it is defined as a decorator that takes a function func as an argument.\n",
        "Wrapper Function: Inside, a wrapper function is created to handle any arguments passed to func.\n",
        "Timing: The time module records the start and end times, and the execution time is calculated.\n",
        "Output: The execution time is printed, and the result of the original function is returned.\n",
        "You can apply this decorator to any function to easily monitor its execution time."
      ],
      "metadata": {
        "id": "dFSPcjQE5t59"
      }
    },
    {
      "cell_type": "markdown",
      "source": [
        "#Q.13 Explain the concept of the Diamond Problem in multiple inheritance. How does Python resolve it?"
      ],
      "metadata": {
        "id": "2j9SyzWV5w4z"
      }
    },
    {
      "cell_type": "markdown",
      "source": [
        "The Diamond Problem arises in multiple inheritance when a class inherits from two classes that both inherit from a common base class. This can create ambiguity in method resolution, as the derived class may inherit multiple definitions of the same method or attribute from the parent classes."
      ],
      "metadata": {
        "id": "4m5H38V76Ec6"
      }
    },
    {
      "cell_type": "code",
      "source": [
        "class A:\n",
        "    def greet(self):\n",
        "        return \"Hello from A\"\n",
        "\n",
        "class B(A):\n",
        "    def greet(self):\n",
        "        return \"Hello from B\"\n",
        "\n",
        "class C(A):\n",
        "    def greet(self):\n",
        "        return \"Hello from C\"\n",
        "\n",
        "class D(B, C):\n",
        "    pass\n",
        "\n",
        "d = D()\n",
        "print(d.greet())  # Output: Hello from B\n"
      ],
      "metadata": {
        "colab": {
          "base_uri": "https://localhost:8080/"
        },
        "id": "6S0VAACM6GA1",
        "outputId": "ddcec87c-9675-41c2-ce1d-a8f40ae7536e"
      },
      "execution_count": 25,
      "outputs": [
        {
          "output_type": "stream",
          "name": "stdout",
          "text": [
            "Hello from B\n"
          ]
        }
      ]
    },
    {
      "cell_type": "markdown",
      "source": [
        "Explanation:\n",
        "\n",
        "In this example:\n",
        "\n",
        "Class A is the base class.\n",
        "Classes B and C inherit from A.\n",
        "Class D inherits from both B and C.\n",
        "When calling d.greet(), Python uses the Method Resolution Order (MRO) to determine which greet method to execute. In this case, it follows the order of classes defined in D(B, C), which means it first looks at B before C. Therefore, the output is \"Hello from B\".\n",
        "\n",
        "Python resolves the Diamond Problem using the C3 linearization algorithm to establish a consistent MRO, ensuring a clear path of inheritance."
      ],
      "metadata": {
        "id": "qrmr7aX86I6c"
      }
    },
    {
      "cell_type": "markdown",
      "source": [
        "#Q.14 Write a class method that keeps track of the number of instances created from a class."
      ],
      "metadata": {
        "id": "jZYRmkOx6L0g"
      }
    },
    {
      "cell_type": "markdown",
      "source": [
        "To keep track of the number of instances created from a class in Python, one can use a class variable that increments every time a new instance is initialized. Here’s a simple example of how to implement this:"
      ],
      "metadata": {
        "id": "69sawCar6RiQ"
      }
    },
    {
      "cell_type": "code",
      "source": [
        "class InstanceCounter:\n",
        "    # Class variable to keep track of the number of instances\n",
        "    instance_count = 0\n",
        "\n",
        "    def __init__(self):\n",
        "        # Increment the instance count every time a new instance is created\n",
        "        InstanceCounter.instance_count += 1\n",
        "\n",
        "    @classmethod\n",
        "    def get_instance_count(cls):\n",
        "        \"\"\"Class method to get the current number of instances.\"\"\"\n",
        "        return cls.instance_count\n",
        "\n",
        "# Example usage\n",
        "if __name__ == \"__main__\":\n",
        "    obj1 = InstanceCounter()\n",
        "    obj2 = InstanceCounter()\n",
        "    obj3 = InstanceCounter()\n",
        "\n",
        "    print(f\"Number of instances created: {InstanceCounter.get_instance_count()}\")\n"
      ],
      "metadata": {
        "colab": {
          "base_uri": "https://localhost:8080/"
        },
        "id": "lwLp98Vx6Xwj",
        "outputId": "aa3dfb6d-42ed-4c89-e066-4266bd800a6b"
      },
      "execution_count": 26,
      "outputs": [
        {
          "output_type": "stream",
          "name": "stdout",
          "text": [
            "Number of instances created: 3\n"
          ]
        }
      ]
    },
    {
      "cell_type": "markdown",
      "source": [
        "Explanation:\n",
        "\n",
        "Class Variable: instance_count is defined as a class variable to store the total number of instances created.\n",
        "Constructor (__init__ method): This method increments the instance_count each time a new instance of InstanceCounter is created.\n",
        "Class Method: get_instance_count is a class method that returns the current count of instances.\n",
        "Example Usage: The code demonstrates creating three instances and prints the total count.\n",
        "This approach efficiently tracks the number of instances without requiring external management."
      ],
      "metadata": {
        "id": "9__6zEAB6cXr"
      }
    },
    {
      "cell_type": "markdown",
      "source": [
        "#Q.15 Implement a static method in a class that checks if a given year is a leap year."
      ],
      "metadata": {
        "id": "tvTu2W4T6fH0"
      }
    },
    {
      "cell_type": "code",
      "source": [
        "class YearChecker:\n",
        "    @staticmethod\n",
        "    def is_leap_year(year):\n",
        "        \"\"\"\n",
        "        Check if the given year is a leap year.\n",
        "\n",
        "        A year is a leap year if:\n",
        "        - It is divisible by 4.\n",
        "        - If it is divisible by 100, it must also be divisible by 400.\n",
        "\n",
        "        Parameters:\n",
        "        year (int): The year to check.\n",
        "\n",
        "        Returns:\n",
        "        bool: True if the year is a leap year, False otherwise.\n",
        "        \"\"\"\n",
        "        if year % 4 == 0:\n",
        "            if year % 100 == 0:\n",
        "                if year % 400 == 0:\n",
        "                    return True  # Divisible by 400\n",
        "                else:\n",
        "                    return False  # Divisible by 100 but not by 400\n",
        "            return True  # Divisible by 4 but not by 100\n",
        "        return False  # Not divisible by 4\n",
        "\n",
        "# Example usage:\n",
        "year = 2024\n",
        "if YearChecker.is_leap_year(year):\n",
        "    print(f\"{year} is a leap year.\")\n",
        "else:\n",
        "    print(f\"{year} is not a leap year.\")\n"
      ],
      "metadata": {
        "colab": {
          "base_uri": "https://localhost:8080/"
        },
        "id": "NUY9GLTn6qXC",
        "outputId": "f4409af1-3f4f-4216-8972-c6cf46c8ffc5"
      },
      "execution_count": 27,
      "outputs": [
        {
          "output_type": "stream",
          "name": "stdout",
          "text": [
            "2024 is a leap year.\n"
          ]
        }
      ]
    },
    {
      "cell_type": "markdown",
      "source": [
        "Explanation:\n",
        "\n",
        "Class YearChecker: Contains a static method is_leap_year.\n",
        "Static Method: The @staticmethod decorator allows the method to be called without creating an instance of the class.\n",
        "Leap Year Logic: The method checks if the year is divisible by 4, handles the exceptions for years divisible by 100 and 400, and returns True or False.\n",
        "Example Usage: The example checks if the year 2024 is a leap year and prints the result."
      ],
      "metadata": {
        "id": "wmcR8hly6sUr"
      }
    },
    {
      "cell_type": "markdown",
      "source": [],
      "metadata": {
        "id": "vbgoe1ng6xa9"
      }
    }
  ]
}